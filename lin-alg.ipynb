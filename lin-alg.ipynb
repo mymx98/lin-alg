{
 "cells": [
  {
   "cell_type": "code",
   "execution_count": 1,
   "metadata": {},
   "outputs": [],
   "source": [
    "import numpy as np"
   ]
  },
  {
   "cell_type": "code",
   "execution_count": 39,
   "metadata": {},
   "outputs": [
    {
     "data": {
      "text/plain": "array([[ 2, -1],\n       [ 1,  1]])"
     },
     "execution_count": 39,
     "metadata": {},
     "output_type": "execute_result"
    }
   ],
   "source": [
    "A = np.array([[2, -1], [1, 1]])\r\n",
    "A"
   ]
  },
  {
   "cell_type": "code",
   "execution_count": 42,
   "metadata": {},
   "outputs": [
    {
     "data": {
      "text/plain": "array([[3],\n       [0]])"
     },
     "execution_count": 42,
     "metadata": {},
     "output_type": "execute_result"
    }
   ],
   "source": [
    "\r\n",
    "B = np.array([[3, 0]]).T\r\n",
    "B"
   ]
  },
  {
   "cell_type": "code",
   "execution_count": 43,
   "metadata": {},
   "outputs": [
    {
     "data": {
      "text/plain": "array([[ 1.],\n       [-1.]])"
     },
     "execution_count": 43,
     "metadata": {},
     "output_type": "execute_result"
    }
   ],
   "source": [
    "np.linalg.solve(A,B)"
   ]
  },
  {
   "cell_type": "code",
   "execution_count": 44,
   "metadata": {},
   "outputs": [
    {
     "data": {
      "text/plain": "2"
     },
     "execution_count": 44,
     "metadata": {},
     "output_type": "execute_result"
    }
   ],
   "source": [
    "np.linalg.matrix_rank(A)"
   ]
  },
  {
   "cell_type": "code",
   "execution_count": 61,
   "metadata": {},
   "outputs": [
    {
     "data": {
      "text/plain": "(2, 2)"
     },
     "execution_count": 61,
     "metadata": {},
     "output_type": "execute_result"
    }
   ],
   "source": [
    "A.shape"
   ]
  },
  {
   "cell_type": "code",
   "execution_count": 45,
   "metadata": {},
   "outputs": [
    {
     "data": {
      "text/plain": "array([[1., 0., 0.],\n       [0., 1., 0.],\n       [0., 0., 1.]])"
     },
     "execution_count": 45,
     "metadata": {},
     "output_type": "execute_result"
    }
   ],
   "source": [
    "np.identity(3)"
   ]
  },
  {
   "cell_type": "code",
   "execution_count": 46,
   "metadata": {},
   "outputs": [
    {
     "data": {
      "text/plain": "array([[3, 0, 0],\n       [0, 1, 0],\n       [0, 0, 5]])"
     },
     "execution_count": 46,
     "metadata": {},
     "output_type": "execute_result"
    }
   ],
   "source": [
    "np.diag(np.array([3, 1, 5]))"
   ]
  },
  {
   "cell_type": "code",
   "execution_count": 47,
   "metadata": {},
   "outputs": [
    {
     "data": {
      "text/plain": "array([[0.],\n       [0.]])"
     },
     "execution_count": 47,
     "metadata": {},
     "output_type": "execute_result"
    }
   ],
   "source": [
    "np.zeros((2,1))"
   ]
  },
  {
   "cell_type": "code",
   "execution_count": 48,
   "metadata": {},
   "outputs": [
    {
     "data": {
      "text/plain": "array([[ 0.33333333,  0.33333333],\n       [-0.33333333,  0.66666667]])"
     },
     "execution_count": 48,
     "metadata": {},
     "output_type": "execute_result"
    }
   ],
   "source": [
    "np.linalg.inv(A)"
   ]
  },
  {
   "cell_type": "code",
   "execution_count": 49,
   "metadata": {},
   "outputs": [
    {
     "data": {
      "text/plain": "2.9999999999999996"
     },
     "execution_count": 49,
     "metadata": {},
     "output_type": "execute_result"
    }
   ],
   "source": [
    "np.linalg.det(A)"
   ]
  },
  {
   "cell_type": "code",
   "execution_count": 51,
   "metadata": {},
   "outputs": [
    {
     "data": {
      "text/plain": "0.9207408535992782"
     },
     "execution_count": 51,
     "metadata": {},
     "output_type": "execute_result"
    }
   ],
   "source": [
    "#Correlation\r\n",
    "def corr(X, Y):\r\n",
    "    X_demeaned = X - np.average(X)\r\n",
    "    Y_demeaned = Y - np.average(Y)\r\n",
    "    \r\n",
    "    X_length = np.sqrt(X_demeaned.dot(X_demeaned))\r\n",
    "    Y_length = np.sqrt(Y_demeaned.dot(Y_demeaned))\r\n",
    "    \r\n",
    "    X_Y = X_demeaned.dot(Y_demeaned)\r\n",
    "    \r\n",
    "    return X_Y/(X_length * Y_length)\r\n",
    "\r\n",
    "X = np.array([99, 80, 79, 75.5, 87.5, 67, 76])\r\n",
    "Y = np.array([100, 82.5, 79, 82.5, 91, 67.5, 68])\r\n",
    "\r\n",
    "corr(X, Y)\r\n"
   ]
  },
  {
   "cell_type": "code",
   "execution_count": 54,
   "metadata": {},
   "outputs": [
    {
     "name": "stdout",
     "output_type": "stream",
     "text": [
      "[-0.66666667  0.33333333  0.66666667]\n",
      "[2.66666667 0.66666667 2.33333333]\n"
     ]
    }
   ],
   "source": [
    "#Orthogonal projection of v onto u:\r\n",
    "def proj(v, u):\r\n",
    "    return (u.dot(v)/(u.dot(u)))*u\r\n",
    "\r\n",
    "u = np.array([2, -1, -2])\r\n",
    "v = np.array([2, 1, 3])\r\n",
    "\r\n",
    "print(proj(v, u))\r\n",
    "print(v - proj(v, u))"
   ]
  },
  {
   "cell_type": "code",
   "execution_count": 57,
   "metadata": {},
   "outputs": [
    {
     "data": {
      "text/plain": "array([-1,  3, -2])"
     },
     "execution_count": 57,
     "metadata": {},
     "output_type": "execute_result"
    }
   ],
   "source": [
    "x = np.array([1, 1, 1])\r\n",
    "y = np.array([1, -1, -2])\r\n",
    "np.cross(x, y)"
   ]
  },
  {
   "cell_type": "code",
   "execution_count": 58,
   "metadata": {},
   "outputs": [
    {
     "data": {
      "text/plain": "-3"
     },
     "execution_count": 58,
     "metadata": {},
     "output_type": "execute_result"
    }
   ],
   "source": [
    "def scalar_triple_product(u, v, w):\r\n",
    "    return u.dot(np.cross(v, w))\r\n",
    "\r\n",
    "u = np.array([2, 1, 1])\r\n",
    "v = np.array([1, -1, 2])\r\n",
    "w = np.array([0, -2, 3])\r\n",
    "scalar_triple_product(u, v, w)"
   ]
  },
  {
   "cell_type": "code",
   "execution_count": 67,
   "metadata": {},
   "outputs": [
    {
     "data": {
      "text/plain": "array([], shape=(2, 0), dtype=float64)"
     },
     "execution_count": 67,
     "metadata": {},
     "output_type": "execute_result"
    }
   ],
   "source": [
    "#Orthonormal basis for null(A) using SVD\r\n",
    "import scipy\r\n",
    "A = np.array([[2, 1], [8, 1]])\r\n",
    "ns = scipy.linalg.null_space(A)\r\n",
    "ns"
   ]
  },
  {
   "cell_type": "code",
   "execution_count": 68,
   "metadata": {},
   "outputs": [
    {
     "data": {
      "text/plain": "array([[-0.25492922, -0.96695972],\n       [-0.96695972,  0.25492922]])"
     },
     "execution_count": 68,
     "metadata": {},
     "output_type": "execute_result"
    }
   ],
   "source": [
    "#Orthonormal basis for A\r\n",
    "cs = scipy.linalg.orth(A)\r\n",
    "cs"
   ]
  },
  {
   "cell_type": "code",
   "execution_count": 71,
   "metadata": {},
   "outputs": [
    {
     "name": "stdout",
     "output_type": "stream",
     "text": [
      "[ 4.37228132 -1.37228132]\n",
      "[[ 0.38843465 -0.28429885]\n",
      " [ 0.92147627  0.95873571]]\n"
     ]
    }
   ],
   "source": [
    "w, v = np.linalg.eig(A)\r\n",
    "print(w)\r\n",
    "print(v)"
   ]
  },
  {
   "cell_type": "code",
   "execution_count": 80,
   "metadata": {},
   "outputs": [
    {
     "data": {
      "text/plain": "array([[2., 1.],\n       [8., 1.]])"
     },
     "execution_count": 80,
     "metadata": {},
     "output_type": "execute_result"
    }
   ],
   "source": [
    "np.matmul(np.matmul(v, np.diag(w)), np.linalg.inv(v))"
   ]
  },
  {
   "cell_type": "code",
   "execution_count": 81,
   "metadata": {},
   "outputs": [
    {
     "name": "stdout",
     "output_type": "stream",
     "text": [
      "[[ 2.06336789e-01-0.08270282j  1.35178580e-01-0.11043312j\n",
      "   1.75292942e-01+0.16262673j -2.88645344e-01-0.0479553j\n",
      "  -5.74595105e-01+0.08524309j  3.58973214e-04-0.47960634j\n",
      "  -3.43660559e-01-0.18982869j  1.35077673e-01+0.18380198j\n",
      "  -5.23036698e-02+0.03122693j]\n",
      " [-1.76874507e-01-0.36001668j -1.13640365e-02+0.07326411j\n",
      "  -5.37806273e-02+0.02038505j -5.15291864e-01-0.31454099j\n",
      "   1.47905237e-01-0.11600942j  1.29857248e-01-0.13031547j\n",
      "   1.32414812e-01+0.03605883j  2.94222917e-01-0.53810412j\n",
      "  -3.16013721e-02+0.02649657j]\n",
      " [-2.78984251e-01-0.4984046j  -1.59835747e-01+0.19651977j\n",
      "  -2.64506520e-01+0.11471596j  1.59871772e-01+0.06523708j\n",
      "  -2.46678800e-01+0.28999148j  2.18146673e-01-0.1143755j\n",
      "   2.24238271e-01-0.02724552j -1.51159317e-01+0.18287251j\n",
      "   3.53519252e-01-0.24237813j]\n",
      " [ 8.85702359e-03-0.30324494j  4.29177120e-03-0.43440157j\n",
      "  -6.87664646e-02-0.07188514j  5.05650035e-01+0.18242869j\n",
      "   1.47208366e-01-0.1366185j   4.18403191e-02-0.25654034j\n",
      "  -1.32262281e-01-0.3940991j   6.43297088e-02-0.32154471j\n",
      "  -1.63971718e-01-0.07252935j]\n",
      " [ 1.22918000e-01-0.27207685j  2.60245823e-01+0.31099823j\n",
      "   4.47715477e-03+0.21917226j  1.47140299e-01-0.02372695j\n",
      "   1.97064401e-01+0.09213716j -1.71904359e-01-0.23214221j\n",
      "   2.27929168e-01-0.02520479j -1.94752906e-01+0.10066053j\n",
      "  -2.32041763e-01+0.62521313j]\n",
      " [ 1.81572410e-01+0.09981492j -3.91648129e-01-0.17362233j\n",
      "   3.61203970e-01-0.03356813j -1.23089953e-01-0.06927979j\n",
      "   4.38175821e-01+0.073593j    2.01838699e-01-0.47177448j\n",
      "   1.24118533e-01+0.04046099j -2.41353520e-01+0.13170503j\n",
      "   2.61273100e-01-0.01901704j]\n",
      " [-3.89963229e-02+0.20726555j  9.81945137e-03-0.38399933j\n",
      "  -1.20301633e-01-0.1350313j   6.24582506e-02-0.22924641j\n",
      "  -3.10933637e-01+0.03707754j -3.17787557e-01-0.20309783j\n",
      "   6.79349357e-01+0.08901089j  2.83738616e-02-0.02574305j\n",
      "  -8.41475440e-02-0.02298426j]\n",
      " [-9.71913809e-02+0.16859338j -4.06257648e-01+0.04676914j\n",
      "   2.34171063e-02+0.52504034j  1.36769241e-01+0.32771915j\n",
      "  -8.33842316e-02-0.24262883j -2.60627776e-02-0.0662081j\n",
      "   1.13280783e-01+0.1042701j   4.78854839e-01-0.0311782j\n",
      "   1.25126141e-01+0.22815841j]\n",
      " [ 2.05892694e-01+0.33853488j  1.68261293e-01+0.14165704j\n",
      "  -5.98033027e-01-0.01674723j  5.55425464e-02-0.05775567j\n",
      "   1.31850923e-01+0.12633725j -1.17314979e-01-0.31636204j\n",
      "  -2.00771232e-01+0.01068565j  5.79279888e-02-0.22196943j\n",
      "   4.34106064e-01+0.03985164j]]\n",
      "[7.07914242 6.3505375  3.83426582 3.64328928 3.14128773 1.41030805]\n",
      "[[-0.30973849+0.j          0.14863748+0.06193375j  0.35814417+0.41666505j\n",
      "   0.41539395-0.43689796j  0.04010929-0.00750841j  0.41288861+0.20169797j]\n",
      " [ 0.60757099+0.j          0.25943405+0.37789578j  0.19020279+0.40896995j\n",
      "  -0.27280231-0.09812398j  0.32264685-0.04441784j -0.15744565+0.0489922j ]\n",
      " [-0.23584203+0.j         -0.06626657+0.49610069j  0.42156065-0.39616734j\n",
      "   0.28884987+0.12076348j  0.30783629+0.18602311j -0.36012253-0.04621008j]\n",
      " [ 0.39408531+0.j         -0.36424661+0.40824534j  0.10737919-0.26202924j\n",
      "   0.14500172-0.01012282j -0.4516134 -0.31314673j  0.32617608+0.18876695j]\n",
      " [-0.55202717+0.j         -0.05621554+0.43612471j -0.09176306+0.14165037j\n",
      "  -0.59961463+0.11862765j -0.03208481-0.21262224j  0.10449766+0.20651422j]\n",
      " [-0.1387835 +0.j          0.10593881+0.09759554j -0.01310522+0.22623192j\n",
      "   0.18455661-0.16031598j -0.35491091-0.53728783j -0.48823688-0.44256187j]]\n"
     ]
    }
   ],
   "source": [
    "a = np.random.randn(9, 6) + 1j*np.random.randn(9, 6)\r\n",
    "b = np.random.randn(2, 7, 8, 3) + 1j*np.random.randn(2, 7, 8, 3)\r\n",
    "u, s, vh = np.linalg.svd(a, full_matrices=True)\r\n",
    "print(u)\r\n",
    "print(s)\r\n",
    "print(vh)"
   ]
  },
  {
   "cell_type": "code",
   "execution_count": null,
   "metadata": {},
   "outputs": [],
   "source": []
  }
 ],
 "metadata": {
  "kernelspec": {
   "display_name": "Python 3.8.0 64-bit",
   "metadata": {
    "interpreter": {
     "hash": "2d04f120ef9720f2488447f7ea0097f595927923387bca235b2adec1aebe5795"
    }
   },
   "name": "python3"
  },
  "language_info": {
   "codemirror_mode": {
    "name": "ipython",
    "version": 3
   },
   "file_extension": ".py",
   "mimetype": "text/x-python",
   "name": "python",
   "nbconvert_exporter": "python",
   "pygments_lexer": "ipython3",
   "version": "3.8.0"
  },
  "orig_nbformat": 2
 },
 "nbformat": 4,
 "nbformat_minor": 2
}